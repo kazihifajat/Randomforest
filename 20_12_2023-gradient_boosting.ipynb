{
 "cells": [
  {
   "cell_type": "code",
   "execution_count": null,
   "id": "ab3a660a-f293-4be1-8d91-83d0559285c7",
   "metadata": {},
   "outputs": [],
   "source": [
    "import pandas as pd\n",
    "import numpy as np\n",
    "from sklearn.model_selection import train_test_split\n",
    "from sklearn.ensemble import RandomForestRegressor\n",
    "from sklearn.ensemble import GradientBoostingRegressor\n",
    "from sklearn.metrics import mean_squared_error, r2_score\n",
    "import matplotlib.pyplot as plt\n",
    "\n"
   ]
  },
  {
   "cell_type": "code",
   "execution_count": null,
   "id": "ff8ec237-ccf7-4d1a-8374-c621db1723df",
   "metadata": {},
   "outputs": [],
   "source": [
    "df= pd.read_csv(\"with_sin_cos_all_nan_removed.csv\")"
   ]
  },
  {
   "cell_type": "code",
   "execution_count": null,
   "id": "98f01100-99d3-4e3d-8e44-43cd6ca0448a",
   "metadata": {},
   "outputs": [],
   "source": [
    "df"
   ]
  },
  {
   "cell_type": "raw",
   "id": "05bad8c2-8d78-4c98-aad9-d69c4cf0e89c",
   "metadata": {},
   "source": [
    "# Forward fill\n",
    "df['AOD'] = df['AOD'].fillna(method='ffill')\n",
    "\n",
    "# Backward fill\n",
    "#df['AOD'] = df['AOD'].fillna(method='bfill')\n"
   ]
  },
  {
   "cell_type": "code",
   "execution_count": null,
   "id": "5c16e653-6b60-4aa6-ae34-1eb2149e0b3f",
   "metadata": {},
   "outputs": [],
   "source": [
    "df['time'] = pd.to_datetime(df['time'])"
   ]
  },
  {
   "cell_type": "code",
   "execution_count": null,
   "id": "6ddbed9e-b4c9-4be1-81b8-4dc7ade02ac5",
   "metadata": {},
   "outputs": [],
   "source": []
  },
  {
   "cell_type": "raw",
   "id": "9952fc11-41ab-4a13-bd9f-3137def587a1",
   "metadata": {},
   "source": [
    "# import numpy as np\n",
    "\n",
    "df['sin_month'] = np.sin(2 * np.pi * df['time'].dt.month / 12)\n",
    "df['cos_month'] = np.cos(2 * np.pi * df['time'].dt.month / 12)\n"
   ]
  },
  {
   "cell_type": "code",
   "execution_count": null,
   "id": "da4dedeb-266f-4c00-8714-4e2e40c45644",
   "metadata": {},
   "outputs": [],
   "source": [
    "\n",
    "# Assuming your data is in a pandas DataFrame named 'df'\n",
    "# Make sure your 'time' column is in datetime format\n",
    "df['time'] = pd.to_datetime(df['time'])\n",
    "\n",
    "# Filter data for dates between January 1, 2021, and December 31, 2022\n",
    "date_range_start = '2021-01-01'\n",
    "date_range_end = '2022-10-31'\n",
    "date_mask = (df['time'] >= date_range_start) & (df['time'] <= date_range_end)\n",
    "filtered_data = df[date_mask]\n",
    "\n",
    "# Further filter based on 'PM 2.5' range\n",
    "pm_mask = (filtered_data['PM 2.5'] >= 30) & (filtered_data['PM 2.5'] <= 250)\n",
    "final_filtered_data = filtered_data[pm_mask]\n",
    "\n",
    "# Create a new DataFrame with the filtered data\n",
    "new_df = pd.DataFrame(final_filtered_data)\n",
    "\n",
    "# Display the new DataFrame\n",
    "print(new_df)\n"
   ]
  },
  {
   "cell_type": "code",
   "execution_count": null,
   "id": "46b75d1a-ba7b-4805-b605-c147ee46f74f",
   "metadata": {},
   "outputs": [],
   "source": [
    "new_df = new_df.drop(['Station Name'], axis=1)"
   ]
  },
  {
   "cell_type": "code",
   "execution_count": null,
   "id": "62b11057-3911-45f2-a75e-6090dda9f09b",
   "metadata": {},
   "outputs": [],
   "source": [
    "# Remove rows with NaN values\n",
    "new_df= new_df.dropna()"
   ]
  },
  {
   "cell_type": "code",
   "execution_count": null,
   "id": "7c603ad4-89f4-4a5f-b8b5-0734b49cbf90",
   "metadata": {},
   "outputs": [],
   "source": [
    "new_df"
   ]
  },
  {
   "cell_type": "code",
   "execution_count": null,
   "id": "fcffcbaa-f5fd-4717-9c12-194b8f49551b",
   "metadata": {},
   "outputs": [],
   "source": []
  },
  {
   "cell_type": "code",
   "execution_count": null,
   "id": "0a22d404-9c97-4dc0-b437-086d4b1ac00a",
   "metadata": {},
   "outputs": [],
   "source": [
    "# high_pm= df[df['PM 2.5']>30]"
   ]
  },
  {
   "cell_type": "code",
   "execution_count": null,
   "id": "d2314ed2-407f-48a8-b5db-e624cf03e567",
   "metadata": {},
   "outputs": [],
   "source": [
    "# high_pm"
   ]
  },
  {
   "cell_type": "code",
   "execution_count": null,
   "id": "b379cc83-75b9-43b9-a437-a1cda4ede5ba",
   "metadata": {},
   "outputs": [],
   "source": [
    "# Assuming your DataFrame is named 'df'\n",
    "X = new_df.drop(['PM 2.5',\"time\"], axis=1)  # Features (excluding the target variable)\n",
    "y = new_df['PM 2.5']  # Target variable\n"
   ]
  },
  {
   "cell_type": "code",
   "execution_count": null,
   "id": "38a083c3-1355-4cb1-8cb3-b2e29b6b8064",
   "metadata": {},
   "outputs": [],
   "source": [
    "X_train, X_test, y_train, y_test = train_test_split(X, y, test_size=0.2, random_state=42)\n"
   ]
  },
  {
   "cell_type": "code",
   "execution_count": null,
   "id": "8ad5c37f-81bd-4bbf-8fa3-b90352955ba7",
   "metadata": {},
   "outputs": [],
   "source": [
    "#print(X_test.dtypes)"
   ]
  },
  {
   "cell_type": "raw",
   "id": "79c8027c-1616-4c8d-adb8-2e66333e9141",
   "metadata": {},
   "source": [
    "import xgboost as xgb\n",
    "# Create and train the XGBoost model\r\n",
    "xgb_model = xgb.XGBRegressor(n_estimators=100, learning_rate=0.1, random_state=42)\r\n",
    "xgb_model.fit(X_train, y_train# Make predictions on the test set\r\n",
    "y_pred_xgb = xgb_model.predict(X_test)\n",
    "\n",
    ")\n",
    "import lightgbm as lgb\n",
    "lgb_model = lgb.LGBMRegressor(n_estimators=100, learning_rate=0.1, random_state=42)\r\n",
    "lgb_model.fit(X_train, y_train)\n",
    "from catboost import CatBoostRegressor\n",
    "cat_model = CatBoostRegressor(n_estimators=100, learning_rate=0.1, random_state=42, verbose=0)\r\n",
    "cat_model.fit(X_train, y_train\n",
    "# Make predictions on the test set\r\n",
    "y_pred_cat = cat_model.predict(X_test)\r\n",
    "\r\n",
    "# Evaluate the model\r\n",
    "rmse_cat = np.sqrt(mean_squared_error(y_test, y_pred_cat))\r\n",
    "r2_cat = r2_score(y_test, y_pred_cat))"
   ]
  },
  {
   "cell_type": "code",
   "execution_count": null,
   "id": "0285ca6c-ab54-4fe1-bedc-5cc7bcb1bcb9",
   "metadata": {},
   "outputs": [],
   "source": [
    "\n",
    "\n",
    "# Assuming X and y are your features and target variable\n",
    "# Split the data into training and testing sets\n",
    "X_train, X_test, y_train, y_test = train_test_split(X, y, test_size=0.2, random_state=42)\n",
    "\n",
    "# Create and train the Gradient Boosting model\n",
    "gb_model = GradientBoostingRegressor(n_estimators=100, learning_rate=0.3, random_state=42)\n",
    "gb_model.fit(X_train, y_train)\n",
    "\n",
    "# Make predictions on the test set\n",
    "y_pred_gb = gb_model.predict(X_test)\n",
    "\n",
    "# Evaluate the model\n",
    "rmse_gb = np.sqrt(mean_squared_error(y_test, y_pred_gb))\n",
    "r2_gb = r2_score(y_test, y_pred_gb)\n",
    "\n",
    "print(f'Gradient Boosting RMSE: {rmse_gb:.4f}')\n",
    "print(f'Gradient Boosting R-squared: {r2_gb:.4f}')\n",
    "\n",
    "# Plot the predicted vs. actual values\n",
    "plt.figure(figsize=(10, 6))\n",
    "plt.scatter(y_test, y_pred_gb, alpha=0.5)\n",
    "plt.xlabel('Actual PM 2.5 Values')\n",
    "plt.ylabel('Predicted PM 2.5 Values')\n",
    "plt.title('Gradient Boosting: Actual vs. Predicted PM 2.5 Values')\n",
    "plt.show()\n",
    "\n",
    "\n",
    "\n"
   ]
  },
  {
   "cell_type": "code",
   "execution_count": null,
   "id": "d5df6cf3-b135-4de2-9846-ff9e7f754551",
   "metadata": {},
   "outputs": [],
   "source": [
    "from sklearn.model_selection import cross_val_score\n",
    "\n",
    "\n",
    "# Assuming rf_model is your Random Forest model\n",
    "cross_val_scores = cross_val_score(gb_model, X_train, y_train, scoring='neg_mean_squared_error', cv=5)\n",
    "rmse_cross_val = np.sqrt(-cross_val_scores.mean())\n",
    "\n",
    "print(f'Cross-Validated RMSE: {rmse_cross_val:.4f}')\n"
   ]
  },
  {
   "cell_type": "code",
   "execution_count": null,
   "id": "ed5c6769-97a5-4fb6-9e4c-fc8c0092d200",
   "metadata": {},
   "outputs": [],
   "source": [
    "feature_importance = pd.Series(gb_model.feature_importances_, index=X.columns)\n",
    "feature_importance.sort_values(ascending=False, inplace=True)\n",
    "print(feature_importance)\n"
   ]
  },
  {
   "cell_type": "code",
   "execution_count": null,
   "id": "79e79ead-7ed9-48aa-aef7-da5f04283e65",
   "metadata": {},
   "outputs": [],
   "source": [
    "from sklearn.metrics import mean_squared_error, r2_score\n",
    "\n",
    "\n",
    "# Make predictions on the training set\n",
    "y_train_pred = gb_model.predict(X_train)\n",
    "\n",
    "# Make predictions on the test set\n",
    "y_test_pred = gb_model.predict(X_test)\n",
    "\n",
    "# Calculate RMSE for training and testing sets\n",
    "rmse_train = np.sqrt(mean_squared_error(y_train, y_train_pred))\n",
    "rmse_test = np.sqrt(mean_squared_error(y_test, y_test_pred))\n",
    "\n",
    "# Calculate R-squared for training and testing sets\n",
    "r2_train = r2_score(y_train, y_train_pred)\n",
    "r2_test = r2_score(y_test, y_test_pred)\n",
    "\n",
    "# Display the results\n",
    "print(f'Training RMSE: {rmse_train:.4f}')\n",
    "print(f'Testing RMSE: {rmse_test:.4f}')\n",
    "\n",
    "print(f'Training R-squared: {r2_train:.4f}')\n",
    "print(f'Testing R-squared: {r2_test:.4f}')\n",
    "\n"
   ]
  },
  {
   "cell_type": "code",
   "execution_count": null,
   "id": "5351dbe9-55a4-40c7-9dfb-a197f235c27e",
   "metadata": {},
   "outputs": [],
   "source": [
    "import joblib\n",
    "\n",
    "# Save the model to a file\n",
    "model_filename = 'gradient_boost_model_20_12.pkl'\n",
    "joblib.dump(gb_model, model_filename)\n",
    "\n"
   ]
  },
  {
   "cell_type": "markdown",
   "id": "3b1ef695-336e-4836-9be8-b292e5cec855",
   "metadata": {},
   "source": [
    "ready unseen data"
   ]
  },
  {
   "cell_type": "code",
   "execution_count": null,
   "id": "6f46f953-97d8-4cd7-8700-02e2fc0ef048",
   "metadata": {},
   "outputs": [],
   "source": [
    "df1= pd.read_csv(\"with_sin_cos_all_nan_removed.csv\")"
   ]
  },
  {
   "cell_type": "code",
   "execution_count": null,
   "id": "1494bbbd-06d0-4b9e-aa6f-d6353b5958fd",
   "metadata": {},
   "outputs": [],
   "source": [
    "# df['time'] = pd.to_datetime(df['time'])"
   ]
  },
  {
   "cell_type": "code",
   "execution_count": null,
   "id": "ad1dd64e-89d3-499d-88b9-6c9bbd60a5a7",
   "metadata": {},
   "outputs": [],
   "source": [
    "import pandas as pd\n",
    "\n",
    "# Assuming your data is in a pandas DataFrame named 'df'\n",
    "# Make sure your 'time' column is in datetime format\n",
    "df1['time'] = pd.to_datetime(df1['time'])\n",
    "\n",
    "# Filter data for dates between January 1, 2021, and December 31, 2022\n",
    "date_range_start = '2022-11-01'\n",
    "date_range_end = '2022-12-31'\n",
    "date_mask = (df1['time'] >= date_range_start) & (df1['time'] <= date_range_end)\n",
    "filtered_data = df1[date_mask]\n",
    "\n",
    "# Further filter based on 'PM 2.5' range\n",
    "pm_mask = (filtered_data['PM 2.5'] >= 30) & (filtered_data['PM 2.5'] <= 250)\n",
    "final_filtered_data = filtered_data\n",
    "\n",
    "# Create a new DataFrame with the filtered data\n",
    "new_df1 = pd.DataFrame(final_filtered_data)\n",
    "\n",
    "# Display the new DataFrame\n",
    "print(new_df1)\n",
    "\n"
   ]
  },
  {
   "cell_type": "code",
   "execution_count": null,
   "id": "680d0741-6ce1-4d44-827d-82fc75e22af6",
   "metadata": {},
   "outputs": [],
   "source": [
    "new_df1= new_df1.dropna()"
   ]
  },
  {
   "cell_type": "code",
   "execution_count": null,
   "id": "7fd27640-633a-49d7-80ff-ae7d7941eb16",
   "metadata": {},
   "outputs": [],
   "source": [
    "X_unseen = new_df1.drop(['PM 2.5','Station Name',\"time\"], axis=1)  # Features (excluding the target variable)"
   ]
  },
  {
   "cell_type": "code",
   "execution_count": null,
   "id": "d8cad194-ae0c-4c5a-9178-8448894a1566",
   "metadata": {},
   "outputs": [],
   "source": []
  },
  {
   "cell_type": "code",
   "execution_count": null,
   "id": "68793072-ca4c-4e69-9246-c0be0791e859",
   "metadata": {},
   "outputs": [],
   "source": [
    "# Later, when you want to use the model for predictions on unseen data:\n",
    "# Load the model from the file\n",
    "import joblib\n",
    "loaded_model = joblib.load(model_filename)\n",
    "\n",
    "#Make predictions on unseen data (replace X_unseen with your actual unseen data)\n",
    "y_unseen_pred = loaded_model.predict(X_unseen)\n",
    "\n",
    "#Display the predictions on unseen data\n",
    "print(y_unseen_pred)\n",
    "pm=(new_df1[\"PM 2.5\"])\n",
    "print(pm)\n"
   ]
  },
  {
   "cell_type": "code",
   "execution_count": null,
   "id": "82e1ef26-a733-4fdc-bb7e-7ca5eaf2d55f",
   "metadata": {},
   "outputs": [],
   "source": [
    "rmse = np.sqrt(mean_squared_error(y_unseen_pred, pm))"
   ]
  },
  {
   "cell_type": "code",
   "execution_count": null,
   "id": "32280d18-cda9-47b4-8dea-d0526d398d5f",
   "metadata": {},
   "outputs": [],
   "source": [
    "rmse"
   ]
  },
  {
   "cell_type": "code",
   "execution_count": null,
   "id": "154c7142-e1e1-415b-9f46-01f9a13bbc34",
   "metadata": {},
   "outputs": [],
   "source": [
    "r2_unseen = r2_score(y_unseen_pred, pm)"
   ]
  },
  {
   "cell_type": "code",
   "execution_count": null,
   "id": "b97059d3-3fc3-4f05-87cf-ac9a970b51e9",
   "metadata": {},
   "outputs": [],
   "source": [
    "r2_unseen"
   ]
  },
  {
   "cell_type": "code",
   "execution_count": null,
   "id": "f99761d2-6b97-4be9-812c-af088c55aa84",
   "metadata": {},
   "outputs": [],
   "source": [
    "import numpy as np\n",
    "\n",
    "# Assuming y_unseen_pred and pm_actual are your predicted and actual PM 2.5 values\n",
    "correlation_coefficient = np.corrcoef(y_unseen_pred, pm)[0, 1]\n",
    "\n",
    "print(f'Correlation coefficient between predicted and actual PM 2.5: {correlation_coefficient:.4f}')\n"
   ]
  },
  {
   "cell_type": "code",
   "execution_count": null,
   "id": "534e4529-099f-4000-998f-3b1bc2a9f7fb",
   "metadata": {},
   "outputs": [],
   "source": []
  },
  {
   "cell_type": "code",
   "execution_count": null,
   "id": "cd87e09b-f546-4015-8f95-c795f06c69bc",
   "metadata": {},
   "outputs": [],
   "source": [
    "from sklearn.metrics import mean_squared_error\n",
    "import numpy as np\n",
    "\n",
    "# Assuming y_actual and y_pred are your actual and predicted values\n",
    "y_actual_tttt = np.array([pm])  # Replace with your actual values\n",
    "y_pred_tttt = np.array([y_unseen_pred])  # Replace with your predicted values\n",
    "\n",
    "# Calculate RMSE\n",
    "rmse = np.sqrt(mean_squared_error(y_actual_tttt, y_pred_tttt))\n",
    "\n",
    "# Calculate the mean of the target variable\n",
    "mean_target = np.mean(y_actual_tttt)\n",
    "\n",
    "# Compare RMSE with Mean\n",
    "print(f'RMSE: {rmse:.4f}')\n",
    "print(f'Mean of the Target Variable: {mean_target:.4f}')\n",
    "\n",
    "# Normalize RMSE by dividing by the mean\n",
    "nrmse = rmse / mean_target\n",
    "print(f'Normalized RMSE (NRMSE): {nrmse:.4f}')\n"
   ]
  },
  {
   "cell_type": "code",
   "execution_count": null,
   "id": "e04065f0-4832-4eda-8fd5-f9d15e243b41",
   "metadata": {},
   "outputs": [],
   "source": [
    "import matplotlib.pyplot as plt\n",
    "\n",
    "\n",
    "# Create a line plot\n",
    "plt.figure(figsize=(10, 6))\n",
    "plt.plot(y_actual_tttt.flatten(), label='Actual PM 2.5')\n",
    "plt.plot(y_pred_tttt.flatten(), label='Predicted PM 2.5')\n",
    "\n",
    "# Add labels and title\n",
    "plt.xlabel('Observation')\n",
    "plt.ylabel('PM 2.5 Values')\n",
    "plt.title('Comparison of Actual and Predicted PM 2.5 Values')\n",
    "\n",
    "# Add legend\n",
    "plt.legend()\n",
    "\n",
    "# Show the plot\n",
    "plt.show()\n"
   ]
  },
  {
   "cell_type": "code",
   "execution_count": null,
   "id": "5958d615-cbdf-48d7-8f83-89c382c33d2a",
   "metadata": {},
   "outputs": [],
   "source": []
  }
 ],
 "metadata": {
  "kernelspec": {
   "display_name": "Python 3 (ipykernel)",
   "language": "python",
   "name": "python3"
  },
  "language_info": {
   "codemirror_mode": {
    "name": "ipython",
    "version": 3
   },
   "file_extension": ".py",
   "mimetype": "text/x-python",
   "name": "python",
   "nbconvert_exporter": "python",
   "pygments_lexer": "ipython3",
   "version": "3.11.5"
  }
 },
 "nbformat": 4,
 "nbformat_minor": 5
}
