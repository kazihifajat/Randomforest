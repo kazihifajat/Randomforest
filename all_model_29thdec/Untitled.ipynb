{
 "cells": [
  {
   "cell_type": "code",
   "execution_count": 1,
   "id": "3d699c5a-9344-4d25-b25d-c0d00c7eb31f",
   "metadata": {},
   "outputs": [],
   "source": [
    "import pandas as pd\n",
    "df= pd.read_csv(\"2021_to_nov2022.csv\")\n",
    "\n"
   ]
  },
  {
   "cell_type": "code",
   "execution_count": 4,
   "id": "05fd2fb3-3d29-4e40-9241-c778fc0f5ba6",
   "metadata": {},
   "outputs": [
    {
     "name": "stdout",
     "output_type": "stream",
     "text": [
      "Latitude\n",
      "Longitude\n",
      "Time\n",
      "Albedo\n",
      "Downward_Long-Wave_Rad_Flux\n",
      "Downward_Short-Wave_Rad_Flux\n",
      "Wind_Gust\n",
      "Planetary_Boundary_Layer_Height\n",
      "Latent_Heat_Flux\n",
      "Pressure\n",
      "R_H_L103\n",
      "SHTFL_L1_Avg_1\n",
      "TMP_L103\n",
      "U_GRD_L103\n",
      "ULWRF_L1_Avg_1\n",
      "USWRF_L1_Avg_1\n",
      "Vertical_motion\n",
      "Visibility\n",
      "Station Name\n",
      "PM 2.5\n",
      "AOD\n",
      "Precipitation_Rate\n",
      "Sine_of_Month\n",
      "Cosine_of_Month\n",
      "weekday\n",
      "oct_feb\n",
      "march_may\n",
      "june_sep\n",
      "nov_feb\n",
      "june_aug\n",
      "sep_oct\n",
      "nov_march\n",
      "april_may\n"
     ]
    }
   ],
   "source": [
    "for column in df.columns:\n",
    "    print(column)"
   ]
  },
  {
   "cell_type": "code",
   "execution_count": null,
   "id": "250e64cc-e14a-4987-af67-e8abba7c452d",
   "metadata": {},
   "outputs": [],
   "source": [
    "# Import necessary libraries\n",
    "from sklearn.model_selection import train_test_split\n",
    "from sklearn.ensemble import RandomForestRegressor\n",
    "from sklearn.metrics import mean_absolute_error\n",
    "\n",
    "# Data Preparation\n",
    "# Assuming your data is stored in a DataFrame called 'df'\n",
    "# Drop non-numeric columns and the target variable\n",
    "X = df.drop(['Time', 'PM2.5',\"Station Name\"], axis=1)\n",
    "y = df['PM2.5']\n",
    "\n",
    "# Train-Test Split\n",
    "X_train, X_test, y_train, y_test = train_test_split(X, y, test_size=0.2, random_state=42)\n",
    "\n",
    "# Model Training\n",
    "rf_model = RandomForestRegressor(\n",
    "    n_estimators=100,\n",
    "    max_depth=10,\n",
    "    min_samples_split=2,\n",
    "    min_samples_leaf=1,\n",
    "    max_features='auto',  # You can experiment with different values here\n",
    "    random_state=42\n",
    ")\n",
    "\n",
    "rf_model.fit(X_train, y_train)\n",
    "\n",
    "# Model Evaluation\n",
    "y_pred = rf_model.predict(X_test)\n",
    "mae = mean_absolute_error(y_test, y_pred)\n",
    "print(f'Mean Absolute Error: {mae}')\n"
   ]
  }
 ],
 "metadata": {
  "kernelspec": {
   "display_name": "Python 3 (ipykernel)",
   "language": "python",
   "name": "python3"
  },
  "language_info": {
   "codemirror_mode": {
    "name": "ipython",
    "version": 3
   },
   "file_extension": ".py",
   "mimetype": "text/x-python",
   "name": "python",
   "nbconvert_exporter": "python",
   "pygments_lexer": "ipython3",
   "version": "3.11.5"
  }
 },
 "nbformat": 4,
 "nbformat_minor": 5
}
