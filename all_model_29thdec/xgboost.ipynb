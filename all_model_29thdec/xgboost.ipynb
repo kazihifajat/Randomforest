{
 "cells": [
  {
   "cell_type": "code",
   "execution_count": 1,
   "id": "36204305-be17-4b1f-b9d4-99ea9918f692",
   "metadata": {},
   "outputs": [],
   "source": [
    "import pandas as pd\n",
    "import numpy as np\n",
    "df= pd.read_csv(\"2021_to_nov2022.csv\")"
   ]
  },
  {
   "cell_type": "code",
   "execution_count": 2,
   "id": "9bc6c37c-9f6c-42e3-8236-b2156d065ad4",
   "metadata": {},
   "outputs": [],
   "source": [
    "df = df.dropna()"
   ]
  },
  {
   "cell_type": "code",
   "execution_count": 3,
   "id": "1229cd0f-e228-42b2-8ef0-efad24eaf868",
   "metadata": {},
   "outputs": [
    {
     "name": "stdout",
     "output_type": "stream",
     "text": [
      "Mean Absolute Error: 8.391727108130425\n",
      "Mean Squared Error: 166.47907020947525\n",
      "Root Mean Squared Error: 12.902676862166054\n",
      "R-squared: 0.9185115803909847\n"
     ]
    }
   ],
   "source": [
    "import xgboost as xgb\n",
    "from sklearn.metrics import mean_absolute_error, mean_squared_error\n",
    "from sklearn.model_selection import train_test_split\n",
    "\n",
    "# Data Preparation\n",
    "# Assuming your data is stored in a DataFrame called 'df'\n",
    "# Drop non-numeric columns and the target variable\n",
    "X = df.drop(['Time', 'PM 2.5', 'Station Name'], axis=1)\n",
    "y = df['PM 2.5']\n",
    "\n",
    "# Train-Test Split\n",
    "X_train, X_test, y_train, y_test = train_test_split(X, y, test_size=0.2, random_state=42)\n",
    "\n",
    "# Model Training\n",
    "xg_reg = xgb.XGBRegressor(\n",
    "    objective ='reg:squarederror',  # Use 'reg:squarederror' for regression tasks\n",
    "    colsample_bytree = 0.3,\n",
    "    learning_rate = 0.1,\n",
    "    max_depth = 5,\n",
    "    alpha = 10,\n",
    "    n_estimators = 100\n",
    ")\n",
    "\n",
    "xg_reg.fit(X_train, y_train)\n",
    "\n",
    "# Model Evaluation\n",
    "y_pred = xg_reg.predict(X_test)\n",
    "\n",
    "mae = mean_absolute_error(y_test, y_pred)\n",
    "mse = mean_squared_error(y_test, y_pred)\n",
    "rmse = np.sqrt(mse)\n",
    "r2 = xg_reg.score(X_test, y_test)\n",
    "\n",
    "print(f'Mean Absolute Error: {mae}')\n",
    "print(f'Mean Squared Error: {mse}')\n",
    "print(f'Root Mean Squared Error: {rmse}')\n",
    "print(f'R-squared: {r2}')\n"
   ]
  },
  {
   "cell_type": "code",
   "execution_count": 5,
   "id": "ca267455-10dd-49ac-b0ee-2f905f76ef5a",
   "metadata": {},
   "outputs": [
    {
     "data": {
      "text/plain": [
       "['xgboost_model.pkl']"
      ]
     },
     "execution_count": 5,
     "metadata": {},
     "output_type": "execute_result"
    }
   ],
   "source": [
    "# Save the model to a file\n",
    "import joblib\n",
    "model_filename = 'xgboost_model.pkl'\n",
    "joblib.dump(xg_reg, model_filename)"
   ]
  },
  {
   "cell_type": "code",
   "execution_count": null,
   "id": "9af69140-c9c2-4553-abf4-fd0a8bbdcf96",
   "metadata": {},
   "outputs": [],
   "source": [
    "#checkkk\n"
   ]
  },
  {
   "cell_type": "code",
   "execution_count": null,
   "id": "47dafc6c-009c-4639-9da6-4259aad797c1",
   "metadata": {},
   "outputs": [],
   "source": []
  },
  {
   "cell_type": "code",
   "execution_count": null,
   "id": "c376aa81-efb9-429f-8894-2b4f7cb54066",
   "metadata": {},
   "outputs": [],
   "source": []
  }
 ],
 "metadata": {
  "kernelspec": {
   "display_name": "Python 3 (ipykernel)",
   "language": "python",
   "name": "python3"
  },
  "language_info": {
   "codemirror_mode": {
    "name": "ipython",
    "version": 3
   },
   "file_extension": ".py",
   "mimetype": "text/x-python",
   "name": "python",
   "nbconvert_exporter": "python",
   "pygments_lexer": "ipython3",
   "version": "3.11.5"
  }
 },
 "nbformat": 4,
 "nbformat_minor": 5
}
