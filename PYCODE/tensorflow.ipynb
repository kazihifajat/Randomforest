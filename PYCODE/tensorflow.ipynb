{
 "cells": [
  {
   "cell_type": "code",
   "execution_count": 1,
   "id": "03ba43b8-3904-4e8e-8b88-499524d26997",
   "metadata": {},
   "outputs": [],
   "source": [
    "import pandas as pd"
   ]
  },
  {
   "cell_type": "code",
   "execution_count": 2,
   "id": "48745794-5569-45bb-b115-3175dc5cb22c",
   "metadata": {},
   "outputs": [],
   "source": [
    "df= pd.read_excel(\"Combined All Stations_100m+PM25 added preci.xlsx\")"
   ]
  },
  {
   "cell_type": "code",
   "execution_count": 3,
   "id": "64427e0c-0ae4-4693-95cd-d58ff48965d6",
   "metadata": {},
   "outputs": [
    {
     "name": "stdout",
     "output_type": "stream",
     "text": [
      "WARNING:tensorflow:From C:\\Users\\kazih\\AppData\\Local\\Programs\\Python\\Python311\\Lib\\site-packages\\keras\\src\\losses.py:2976: The name tf.losses.sparse_softmax_cross_entropy is deprecated. Please use tf.compat.v1.losses.sparse_softmax_cross_entropy instead.\n",
      "\n",
      "WARNING:tensorflow:From C:\\Users\\kazih\\AppData\\Local\\Programs\\Python\\Python311\\Lib\\site-packages\\keras\\src\\backend.py:873: The name tf.get_default_graph is deprecated. Please use tf.compat.v1.get_default_graph instead.\n",
      "\n",
      "WARNING:tensorflow:From C:\\Users\\kazih\\AppData\\Local\\Programs\\Python\\Python311\\Lib\\site-packages\\keras\\src\\optimizers\\__init__.py:309: The name tf.train.Optimizer is deprecated. Please use tf.compat.v1.train.Optimizer instead.\n",
      "\n",
      "Epoch 1/50\n",
      "WARNING:tensorflow:From C:\\Users\\kazih\\AppData\\Local\\Programs\\Python\\Python311\\Lib\\site-packages\\keras\\src\\utils\\tf_utils.py:492: The name tf.ragged.RaggedTensorValue is deprecated. Please use tf.compat.v1.ragged.RaggedTensorValue instead.\n",
      "\n",
      "158/158 [==============================] - 1s 2ms/step - loss: 2387.2778 - val_loss: 497.1858\n",
      "Epoch 2/50\n",
      "158/158 [==============================] - 0s 1ms/step - loss: 487.3648 - val_loss: 423.7506\n",
      "Epoch 3/50\n",
      "158/158 [==============================] - 0s 1ms/step - loss: 449.1714 - val_loss: 401.5832\n",
      "Epoch 4/50\n",
      "158/158 [==============================] - 0s 1ms/step - loss: 431.8598 - val_loss: 385.2542\n",
      "Epoch 5/50\n",
      "158/158 [==============================] - 0s 1ms/step - loss: 421.4492 - val_loss: 383.5880\n",
      "Epoch 6/50\n",
      "158/158 [==============================] - 0s 1ms/step - loss: 413.4503 - val_loss: 376.6277\n",
      "Epoch 7/50\n",
      "158/158 [==============================] - 0s 1ms/step - loss: 410.9726 - val_loss: 374.6539\n",
      "Epoch 8/50\n",
      "158/158 [==============================] - 0s 1ms/step - loss: 405.0931 - val_loss: 388.2789\n",
      "Epoch 9/50\n",
      "158/158 [==============================] - 0s 1ms/step - loss: 405.6811 - val_loss: 373.3903\n",
      "Epoch 10/50\n",
      "158/158 [==============================] - 0s 1ms/step - loss: 400.5565 - val_loss: 379.6044\n",
      "Epoch 11/50\n",
      "158/158 [==============================] - 0s 1ms/step - loss: 398.0093 - val_loss: 380.1788\n",
      "Epoch 12/50\n",
      "158/158 [==============================] - 0s 1ms/step - loss: 397.8935 - val_loss: 370.9075\n",
      "Epoch 13/50\n",
      "158/158 [==============================] - 0s 1ms/step - loss: 392.1192 - val_loss: 376.9462\n",
      "Epoch 14/50\n",
      "158/158 [==============================] - 0s 1ms/step - loss: 391.3362 - val_loss: 359.7824\n",
      "Epoch 15/50\n",
      "158/158 [==============================] - 0s 1ms/step - loss: 389.7361 - val_loss: 362.9501\n",
      "Epoch 16/50\n",
      "158/158 [==============================] - 0s 1ms/step - loss: 386.9182 - val_loss: 363.0152\n",
      "Epoch 17/50\n",
      "158/158 [==============================] - 0s 1ms/step - loss: 382.6112 - val_loss: 356.6869\n",
      "Epoch 18/50\n",
      "158/158 [==============================] - 0s 1ms/step - loss: 381.5473 - val_loss: 371.2581\n",
      "Epoch 19/50\n",
      "158/158 [==============================] - 0s 1ms/step - loss: 380.6809 - val_loss: 360.3714\n",
      "Epoch 20/50\n",
      "158/158 [==============================] - 0s 1ms/step - loss: 379.2553 - val_loss: 357.4037\n",
      "Epoch 21/50\n",
      "158/158 [==============================] - 0s 2ms/step - loss: 375.0377 - val_loss: 371.3815\n",
      "Epoch 22/50\n",
      "158/158 [==============================] - 0s 1ms/step - loss: 372.5293 - val_loss: 350.2871\n",
      "Epoch 23/50\n",
      "158/158 [==============================] - 0s 1ms/step - loss: 369.7007 - val_loss: 354.7166\n",
      "Epoch 24/50\n",
      "158/158 [==============================] - 0s 1ms/step - loss: 367.0786 - val_loss: 347.6731\n",
      "Epoch 25/50\n",
      "158/158 [==============================] - 0s 1ms/step - loss: 362.7563 - val_loss: 359.8561\n",
      "Epoch 26/50\n",
      "158/158 [==============================] - 0s 1ms/step - loss: 361.7137 - val_loss: 345.6261\n",
      "Epoch 27/50\n",
      "158/158 [==============================] - 0s 1ms/step - loss: 359.7372 - val_loss: 349.2962\n",
      "Epoch 28/50\n",
      "158/158 [==============================] - 0s 1ms/step - loss: 356.3755 - val_loss: 356.5030\n",
      "Epoch 29/50\n",
      "158/158 [==============================] - 0s 1ms/step - loss: 353.6874 - val_loss: 355.5459\n",
      "Epoch 30/50\n",
      "158/158 [==============================] - 0s 2ms/step - loss: 347.2234 - val_loss: 337.0496\n",
      "Epoch 31/50\n",
      "158/158 [==============================] - 0s 1ms/step - loss: 346.7917 - val_loss: 343.1181\n",
      "Epoch 32/50\n",
      "158/158 [==============================] - 0s 1ms/step - loss: 341.7058 - val_loss: 338.9072\n",
      "Epoch 33/50\n",
      "158/158 [==============================] - 0s 1ms/step - loss: 338.8967 - val_loss: 328.9553\n",
      "Epoch 34/50\n",
      "158/158 [==============================] - 0s 1ms/step - loss: 334.3152 - val_loss: 341.1281\n",
      "Epoch 35/50\n",
      "158/158 [==============================] - 0s 1ms/step - loss: 332.1679 - val_loss: 328.1693\n",
      "Epoch 36/50\n",
      "158/158 [==============================] - 0s 1ms/step - loss: 328.1151 - val_loss: 331.5883\n",
      "Epoch 37/50\n",
      "158/158 [==============================] - 0s 1ms/step - loss: 324.9846 - val_loss: 326.2621\n",
      "Epoch 38/50\n",
      "158/158 [==============================] - 0s 1ms/step - loss: 321.6487 - val_loss: 337.4331\n",
      "Epoch 39/50\n",
      "158/158 [==============================] - 0s 1ms/step - loss: 318.4010 - val_loss: 338.7141\n",
      "Epoch 40/50\n",
      "158/158 [==============================] - 0s 1ms/step - loss: 313.0781 - val_loss: 320.2715\n",
      "Epoch 41/50\n",
      "158/158 [==============================] - 0s 1ms/step - loss: 309.1273 - val_loss: 321.6445\n",
      "Epoch 42/50\n",
      "158/158 [==============================] - 0s 1ms/step - loss: 308.8338 - val_loss: 324.5928\n",
      "Epoch 43/50\n",
      "158/158 [==============================] - 0s 1ms/step - loss: 305.1861 - val_loss: 306.3160\n",
      "Epoch 44/50\n",
      "158/158 [==============================] - 0s 1ms/step - loss: 303.9246 - val_loss: 312.8102\n",
      "Epoch 45/50\n",
      "158/158 [==============================] - 0s 1ms/step - loss: 301.3705 - val_loss: 324.9628\n",
      "Epoch 46/50\n",
      "158/158 [==============================] - 0s 1ms/step - loss: 299.7327 - val_loss: 309.7647\n",
      "Epoch 47/50\n",
      "158/158 [==============================] - 0s 1ms/step - loss: 295.5774 - val_loss: 300.7933\n",
      "Epoch 48/50\n",
      "158/158 [==============================] - 0s 1ms/step - loss: 296.1081 - val_loss: 305.5595\n",
      "Epoch 49/50\n",
      "158/158 [==============================] - 0s 1ms/step - loss: 293.7002 - val_loss: 302.7391\n",
      "Epoch 50/50\n",
      "158/158 [==============================] - 0s 1ms/step - loss: 287.9417 - val_loss: 313.8645\n"
     ]
    },
    {
     "data": {
      "text/plain": [
       "<keras.src.callbacks.History at 0x2070000de10>"
      ]
     },
     "execution_count": 3,
     "metadata": {},
     "output_type": "execute_result"
    }
   ],
   "source": [
    "import tensorflow as tf\n",
    "from sklearn.model_selection import train_test_split\n",
    "from sklearn.preprocessing import StandardScaler\n",
    "\n",
    "# Assuming 'df' is your DataFrame containing the dataset\n",
    "\n",
    "# Drop unnecessary columns\n",
    "df = df.drop(['lat', 'lon', 'time', 'Station Name'], axis=1)\n",
    "\n",
    "# Handle missing values or outliers as needed\n",
    "df = df.dropna()\n",
    "\n",
    "# Split data into features and target\n",
    "X = df.drop('PM 2.5', axis=1)\n",
    "y = df['PM 2.5']\n",
    "\n",
    "# Standardize the features\n",
    "scaler = StandardScaler()\n",
    "X_scaled = scaler.fit_transform(X)\n",
    "\n",
    "# Split the data into training and testing sets\n",
    "X_train, X_test, y_train, y_test = train_test_split(X_scaled, y, test_size=0.2, random_state=42)\n",
    "\n",
    "# Build the neural network model\n",
    "model = tf.keras.Sequential([\n",
    "    tf.keras.layers.Dense(64, activation='relu', input_shape=(X_train.shape[1],)),\n",
    "    tf.keras.layers.Dense(32, activation='relu'),\n",
    "    tf.keras.layers.Dense(1)  # Output layer for regression\n",
    "])\n",
    "\n",
    "# Compile the model\n",
    "model.compile(optimizer='adam', loss='mean_squared_error')\n",
    "\n",
    "# Train the model\n",
    "model.fit(X_train, y_train, epochs=50, batch_size=32, validation_data=(X_test, y_test))\n"
   ]
  },
  {
   "cell_type": "code",
   "execution_count": 4,
   "id": "d6d3c538-47ba-473d-9063-bddc065a2151",
   "metadata": {},
   "outputs": [
    {
     "name": "stdout",
     "output_type": "stream",
     "text": [
      "40/40 [==============================] - 0s 920us/step - loss: 313.8645\n",
      "Mean Squared Error on Test Set: 313.8645324707031\n",
      "40/40 [==============================] - 0s 1ms/step\n"
     ]
    }
   ],
   "source": [
    "# Evaluate the model on the test set\n",
    "loss = model.evaluate(X_test, y_test)\n",
    "print(f\"Mean Squared Error on Test Set: {loss}\")\n",
    "\n",
    "# Make predictions on new data\n",
    "predictions = model.predict(X_test)\n"
   ]
  },
  {
   "cell_type": "code",
   "execution_count": null,
   "id": "d52873d2-a489-44d6-8581-5dfe5f48976f",
   "metadata": {},
   "outputs": [],
   "source": []
  }
 ],
 "metadata": {
  "kernelspec": {
   "display_name": "Python 3 (ipykernel)",
   "language": "python",
   "name": "python3"
  },
  "language_info": {
   "codemirror_mode": {
    "name": "ipython",
    "version": 3
   },
   "file_extension": ".py",
   "mimetype": "text/x-python",
   "name": "python",
   "nbconvert_exporter": "python",
   "pygments_lexer": "ipython3",
   "version": "3.11.5"
  }
 },
 "nbformat": 4,
 "nbformat_minor": 5
}
