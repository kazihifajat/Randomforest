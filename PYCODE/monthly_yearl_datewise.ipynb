{
 "cells": [
  {
   "cell_type": "code",
   "execution_count": 1,
   "id": "80a893ec-37a6-41ec-acd2-0df195dcdf1d",
   "metadata": {},
   "outputs": [],
   "source": [
    "import pandas as pd\n",
    "import numpy as np"
   ]
  },
  {
   "cell_type": "code",
   "execution_count": 2,
   "id": "ae05d87f-bdea-449f-bfc7-4cc6ece00884",
   "metadata": {},
   "outputs": [],
   "source": [
    "df= pd.read_excel(\"Combined All Stations_100m+PM25 added preci.xlsx\")"
   ]
  },
  {
   "cell_type": "code",
   "execution_count": 3,
   "id": "6602757e-4766-460f-8160-759abcd6dbe5",
   "metadata": {},
   "outputs": [],
   "source": [
    "df['time'] = pd.to_datetime(df['time'])"
   ]
  },
  {
   "cell_type": "code",
   "execution_count": 8,
   "id": "582a2777-5f96-440d-8c4e-256342981eb2",
   "metadata": {},
   "outputs": [
    {
     "name": "stdout",
     "output_type": "stream",
     "text": [
      "         lat     lon       time  ALBDO_L1_Avg_1  DLWRF_L1_Avg_1  \\\n",
      "0     22.630  88.352 2021-01-01         5.98142      312.559000   \n",
      "1     22.630  88.352 2021-01-02         5.97004      313.683534   \n",
      "2     22.630  88.352 2021-01-03         5.93766      322.803813   \n",
      "3     22.630  88.352 2021-01-04         5.91420      333.227000   \n",
      "4     22.630  88.352 2021-01-05         5.89578      342.897000   \n",
      "...      ...     ...        ...             ...             ...   \n",
      "9725  22.545  88.340 2023-08-27        11.06430      447.360698   \n",
      "9726  22.545  88.340 2023-08-28        11.38305      446.798837   \n",
      "9727  22.545  88.340 2023-08-29        11.53260      449.412098   \n",
      "9728  22.545  88.340 2023-08-30        11.89660      444.362351   \n",
      "9729  22.545  88.340 2023-08-31        11.06580      449.656999   \n",
      "\n",
      "      DSWRF_L1_Avg_1  FRICV_L1   GUST_L1     HPBL_L1  LAND_L1  ...   VEG_L1  \\\n",
      "0         204.350000       NaN  3.826027  301.986018        1  ...      NaN   \n",
      "1         202.960000       NaN  3.101588  267.144669        1  ...      NaN   \n",
      "2         195.740000       NaN  2.774223  262.226417        1  ...      NaN   \n",
      "3         202.500000       NaN  2.184178  245.017254        1  ...      NaN   \n",
      "4         200.550000       NaN  2.317436  244.012100        1  ...      NaN   \n",
      "...              ...       ...       ...         ...      ...  ...      ...   \n",
      "9725      218.351436  0.236240  4.011113  509.447365        1  ...  27.3940   \n",
      "9726      254.572562  0.232510  3.222736  348.428543        1  ...  28.0470   \n",
      "9727      170.017404  0.217375  2.810299  586.165287        1  ...  28.7160   \n",
      "9728      238.533522  0.196937  2.842451  508.752148        1  ...  29.3645   \n",
      "9729      214.339204  0.225425  3.711203  551.716328        1  ...  30.0405   \n",
      "\n",
      "            VIS_L1  Station Name     PM 2.5       AOD  PRATE_L1_Avg_1  date  \\\n",
      "0     24135.001953    Belur Math  77.654583  0.581550    0.000000e+00     1   \n",
      "1     24135.046875    Belur Math  58.124737  0.425139    0.000000e+00     2   \n",
      "2     24135.080078    Belur Math        NaN  0.665841    0.000000e+00     3   \n",
      "3     24134.914062    Belur Math  76.667778  0.415729    0.000000e+00     4   \n",
      "4     24134.949219    Belur Math  92.684583  0.384968    0.000000e+00     5   \n",
      "...            ...           ...        ...       ...             ...   ...   \n",
      "9725  24134.960938      Victoria  40.327917       NaN    3.322000e-06    27   \n",
      "9726  24134.876953      Victoria  60.819167       NaN    0.000000e+00    28   \n",
      "9727  24135.013672      Victoria  70.484583       NaN    1.620000e-07    29   \n",
      "9728  24134.886719      Victoria  68.857619       NaN    4.600000e-08    30   \n",
      "9729  24134.921875      Victoria  62.442083       NaN    5.260000e-07    31   \n",
      "\n",
      "      month  year    weekday  \n",
      "0         1  2021     Friday  \n",
      "1         1  2021   Saturday  \n",
      "2         1  2021     Sunday  \n",
      "3         1  2021     Monday  \n",
      "4         1  2021    Tuesday  \n",
      "...     ...   ...        ...  \n",
      "9725      8  2023     Sunday  \n",
      "9726      8  2023     Monday  \n",
      "9727      8  2023    Tuesday  \n",
      "9728      8  2023  Wednesday  \n",
      "9729      8  2023   Thursday  \n",
      "\n",
      "[9730 rows x 30 columns]\n"
     ]
    }
   ],
   "source": [
    "import pandas as pd\n",
    "\n",
    "# Assuming 'df' is your DataFrame and 'time' is your time column\n",
    "# If 'time' is not already in datetime format, you can convert it like this:\n",
    "# df['time'] = pd.to_datetime(df['time'])\n",
    "\n",
    "# Extract date, month, and year into separate columns\n",
    "df['date'] = df['time'].dt.day\n",
    "df['month'] = df['time'].dt.month\n",
    "df['year'] = df['time'].dt.year\n",
    "df['weekday'] = df['time'].dt.day_name()\n",
    "\n",
    "# Display the updated DataFrame\n",
    "print(df)\n"
   ]
  },
  {
   "cell_type": "code",
   "execution_count": 9,
   "id": "4eccab98-abff-4e77-90ad-14fd6a8d2a1e",
   "metadata": {},
   "outputs": [],
   "source": [
    "df.to_excel('alldata_withdateyearmonth.xlsx', index=False)"
   ]
  },
  {
   "cell_type": "code",
   "execution_count": 14,
   "id": "17c4e354-69c0-46a0-a0fc-865e2108dc32",
   "metadata": {},
   "outputs": [
    {
     "name": "stdout",
     "output_type": "stream",
     "text": [
      "weekday\n",
      "Friday       54.502352\n",
      "Monday       49.575534\n",
      "Saturday     55.627174\n",
      "Sunday       51.334630\n",
      "Thursday     53.099609\n",
      "Tuesday      52.012522\n",
      "Wednesday    53.317675\n",
      "Name: PM 2.5, dtype: float64\n"
     ]
    }
   ],
   "source": [
    "monthly_pm_mean = df.groupby('weekday')['PM 2.5'].mean()\n",
    "\n",
    "# Display the result\n",
    "print(monthly_pm_mean)"
   ]
  },
  {
   "cell_type": "code",
   "execution_count": null,
   "id": "c4222b3c-ea6c-4045-9f1f-7b923d8870b6",
   "metadata": {},
   "outputs": [],
   "source": [
    "pm_mean_month_weekday = df.groupby(['month', 'weekday'])['PM 2.5'].mean()"
   ]
  }
 ],
 "metadata": {
  "kernelspec": {
   "display_name": "Python 3 (ipykernel)",
   "language": "python",
   "name": "python3"
  },
  "language_info": {
   "codemirror_mode": {
    "name": "ipython",
    "version": 3
   },
   "file_extension": ".py",
   "mimetype": "text/x-python",
   "name": "python",
   "nbconvert_exporter": "python",
   "pygments_lexer": "ipython3",
   "version": "3.11.5"
  }
 },
 "nbformat": 4,
 "nbformat_minor": 5
}
